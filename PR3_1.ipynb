{
  "cells": [
    {
      "cell_type": "markdown",
      "metadata": {
        "id": "zSsV5R9JsMNC"
      },
      "source": [
        "# Part 1 - Classification"
      ]
    },
    {
      "cell_type": "code",
      "execution_count": null,
      "metadata": {
        "id": "Vz5bRENqrfAE"
      },
      "outputs": [
        {
          "name": "stdout",
          "output_type": "stream",
          "text": [
            "GPU is available\n"
          ]
        }
      ],
      "source": [
        "from os import makedirs, path\n",
        "\n",
        "import torch\n",
        "import torch.nn as nn\n",
        "import torch.optim as optim\n",
        "from torch.optim import lr_scheduler\n",
        "from torchvision import datasets, models, transforms\n",
        "\n",
        "if torch.cuda.is_available():\n",
        "    device = torch.device(\"cuda\")\n",
        "    print(\"GPU is available\")\n",
        "else:\n",
        "    device = torch.device(\"cpu\")\n",
        "    print(\"GPU is not available\")\n",
        "\n",
        "dataset_root = \"sample_data\"\n",
        "output_dir = path.join(\"output\", \"part-1\")\n",
        "makedirs(output_dir, exist_ok=True)\n",
        "\n",
        "model_name = \"model.pth\"\n",
        "model = None"
      ]
    },
    {
      "cell_type": "markdown",
      "metadata": {},
      "source": [
        "### Setup and shared functions"
      ]
    },
    {
      "cell_type": "code",
      "execution_count": 2,
      "metadata": {
        "id": "TXqFN3iuPqDt"
      },
      "outputs": [],
      "source": [
        "def save_model_state(model_state: dict):\n",
        "    torch.save(model_state, path.join(output_dir, model_name))\n",
        "\n",
        "def load_model_state():\n",
        "    return torch.load(path.join(output_dir, model_name))\n",
        "\n",
        "def make_model(n_classes=100):\n",
        "    model = models.vgg16(weights=models.VGG16_Weights.DEFAULT)\n",
        "    num_in_ftrs = model.classifier[6].in_features\n",
        "    model.classifier[6] = nn.Linear(num_in_ftrs, n_classes)  # type: ignore\n",
        "    model = model.to(device)\n",
        "\n",
        "    # freeze all the layers\n",
        "    for param in model.parameters():\n",
        "        param.requires_grad = False\n",
        "    # unfreeze the last linear layer.\n",
        "    for param in model.classifier[6].parameters():\n",
        "        param.requires_grad = True\n",
        "\n",
        "    return model\n",
        "\n",
        "\n",
        "# setup transformers\n",
        "data_transforms = transforms.Compose([\n",
        "    transforms.Resize((224, 224)),\n",
        "    transforms.RandomHorizontalFlip(),\n",
        "    transforms.ToTensor(),\n",
        "    transforms.Normalize((0.485, 0.456, 0.406), (0.229, 0.224, 0.225))\n",
        "])\n",
        "\n",
        "batch_size = 64\n",
        "\n",
        "\n",
        "def train_dataset():\n",
        "    trainset = datasets.CIFAR100(\n",
        "        dataset_root, train=True, transform=data_transforms, download=True)\n",
        "\n",
        "    train_loader = torch.utils.data.DataLoader(trainset, batch_size=batch_size, shuffle=True,\n",
        "                                               num_workers=2, pin_memory=True, persistent_workers=True)\n",
        "\n",
        "    return trainset, train_loader\n",
        "\n",
        "\n",
        "def test_dataset():\n",
        "    testset = datasets.CIFAR100(\n",
        "        dataset_root, train=False, transform=data_transforms, download=True)\n",
        "\n",
        "    test_loader = torch.utils.data.DataLoader(testset, batch_size=batch_size, shuffle=True,\n",
        "                                              num_workers=2, pin_memory=True, persistent_workers=True)\n",
        "\n",
        "    return testset, test_loader"
      ]
    },
    {
      "cell_type": "markdown",
      "metadata": {},
      "source": [
        "### Training"
      ]
    },
    {
      "cell_type": "code",
      "execution_count": 3,
      "metadata": {
        "colab": {
          "base_uri": "https://localhost:8080/"
        },
        "id": "xMXfu0i3sLxP",
        "outputId": "60ec3cd1-3314-4b9d-c605-b39dee8ba81d"
      },
      "outputs": [
        {
          "name": "stdout",
          "output_type": "stream",
          "text": [
            "Epoch 1/30\n",
            "    train loss: 2.1900692552185057 acc: 0.44363999366760254\n",
            "    test loss: 1.5941571773529053 acc: 0.5595999956130981\n",
            "Epoch 2/30\n",
            "    train loss: 1.9314462417984009 acc: 0.5082200169563293\n",
            "    test loss: 1.514664986038208 acc: 0.5823000073432922\n",
            "Epoch 3/30\n",
            "    train loss: 1.8866474365234376 acc: 0.5224999785423279\n",
            "    test loss: 1.5121644718170166 acc: 0.5849999785423279\n",
            "Epoch 4/30\n",
            "    train loss: 1.8529958795166015 acc: 0.5325799584388733\n",
            "    test loss: 1.508007730293274 acc: 0.5873000025749207\n",
            "Epoch 5/30\n",
            "    train loss: 1.8478890571975708 acc: 0.5382400155067444\n",
            "    test loss: 1.4981990283966065 acc: 0.5941999554634094\n",
            "Epoch 6/30\n",
            "    train loss: 1.813940989112854 acc: 0.5476999878883362\n",
            "    test loss: 1.560906227684021 acc: 0.588699996471405\n",
            "Epoch 7/30\n",
            "    train loss: 1.8080400621414185 acc: 0.5489000082015991\n",
            "    test loss: 1.4769298179626464 acc: 0.6047999858856201\n",
            "Epoch 8/30\n",
            "    train loss: 1.5301911793518066 acc: 0.5938000082969666\n",
            "    test loss: 1.3010597917556763 acc: 0.6358999609947205\n",
            "Epoch 9/30\n",
            "    train loss: 1.4589879581832885 acc: 0.6026600003242493\n",
            "    test loss: 1.2775969062805175 acc: 0.6431999802589417\n",
            "Epoch 10/30\n",
            "    train loss: 1.4184457822418213 acc: 0.6097800135612488\n",
            "    test loss: 1.2663753690719604 acc: 0.642300009727478\n",
            "Epoch 11/30\n",
            "    train loss: 1.3991421949386598 acc: 0.6117599606513977\n",
            "    test loss: 1.2557797372817994 acc: 0.6474999785423279\n",
            "Epoch 12/30\n",
            "    train loss: 1.373378832359314 acc: 0.6154599785804749\n",
            "    test loss: 1.252485421180725 acc: 0.6412000060081482\n",
            "Epoch 13/30\n",
            "    train loss: 1.3507197526931762 acc: 0.6175000071525574\n",
            "    test loss: 1.24882108669281 acc: 0.646399974822998\n",
            "Epoch 14/30\n",
            "    train loss: 1.325920315475464 acc: 0.6208400130271912\n",
            "    test loss: 1.2417412916183472 acc: 0.6464999914169312\n",
            "Epoch 15/30\n",
            "    train loss: 1.307359605331421 acc: 0.6273800134658813\n",
            "    test loss: 1.2238329285621643 acc: 0.6496999859809875\n",
            "Epoch 16/30\n",
            "    train loss: 1.29312552154541 acc: 0.6309999823570251\n",
            "    test loss: 1.2293136596679688 acc: 0.6474999785423279\n",
            "Epoch 17/30\n",
            "    train loss: 1.2971364618682861 acc: 0.6314199566841125\n",
            "    test loss: 1.23006537399292 acc: 0.6470999717712402\n",
            "Epoch 18/30\n",
            "    train loss: 1.2978474347305298 acc: 0.630079984664917\n",
            "    test loss: 1.231400874710083 acc: 0.6456999778747559\n",
            "Epoch 19/30\n",
            "    train loss: 1.2886597855758668 acc: 0.6297000050544739\n",
            "    test loss: 1.2283618673324586 acc: 0.6496999859809875\n",
            "Epoch 20/30\n",
            "    train loss: 1.2973020926666259 acc: 0.6287599802017212\n",
            "    test loss: 1.2268791869163513 acc: 0.6477000117301941\n",
            "Epoch 21/30\n",
            "    train loss: 1.2984870484924316 acc: 0.6284199953079224\n",
            "    test loss: 1.222668690776825 acc: 0.6477999687194824\n",
            "Epoch 22/30\n",
            "    train loss: 1.29219982131958 acc: 0.6305800080299377\n",
            "    test loss: 1.219852900505066 acc: 0.6502000093460083\n",
            "Epoch 23/30\n",
            "    train loss: 1.2887037042617797 acc: 0.6291399598121643\n",
            "    test loss: 1.223894294166565 acc: 0.6488999724388123\n",
            "Epoch 24/30\n",
            "    train loss: 1.2847467281913758 acc: 0.6344199776649475\n",
            "    test loss: 1.2252833843231201 acc: 0.6474999785423279\n",
            "Epoch 25/30\n",
            "    train loss: 1.286796697998047 acc: 0.6292200088500977\n",
            "    test loss: 1.227608378791809 acc: 0.6495000123977661\n",
            "Epoch 26/30\n",
            "    train loss: 1.2892243112564088 acc: 0.629040002822876\n",
            "    test loss: 1.2264635419845582 acc: 0.6481999754905701\n",
            "Epoch 27/30\n",
            "    train loss: 1.2758924035835266 acc: 0.632860004901886\n",
            "    test loss: 1.2275853323936463 acc: 0.6478999853134155\n",
            "Epoch 28/30\n",
            "    train loss: 1.2863009609031677 acc: 0.6322000026702881\n",
            "    test loss: 1.222933365058899 acc: 0.649399995803833\n",
            "Epoch 29/30\n",
            "    train loss: 1.2813255923843383 acc: 0.6327199935913086\n",
            "    test loss: 1.2243034791946412 acc: 0.6507999897003174\n",
            "Epoch 30/30\n",
            "    train loss: 1.2852916916275023 acc: 0.6332600116729736\n",
            "    test loss: 1.2229758880615234 acc: 0.6502999663352966\n",
            "Best iteration: 29, acc: 0.6507999897003174\n",
            "Saved model to model.pth\n"
          ]
        }
      ],
      "source": [
        "trainset, train_loader = train_dataset()\n",
        "testset, test_loader = test_dataset()\n",
        "n_train, n_test = len(trainset), len(testset)\n",
        "\n",
        "# build the model\n",
        "model = make_model()\n",
        "\n",
        "# training time\n",
        "num_epochs = 30\n",
        "criterion = nn.CrossEntropyLoss()\n",
        "# higher learning rate to train in less epochs\n",
        "optimizer = optim.SGD(model.parameters(), lr=0.01, momentum=0.9)\n",
        "scheduler = lr_scheduler.StepLR(optimizer, step_size=7, gamma=0.1)\n",
        "\n",
        "# save the best model\n",
        "best_epoch = 0\n",
        "best_acc = 0.0\n",
        "best_weights = None\n",
        "\n",
        "\n",
        "def test():\n",
        "    test_loss = 0.0\n",
        "    test_correct = 0.0\n",
        "    model.eval()\n",
        "    with torch.no_grad():\n",
        "        for images, labels in test_loader:\n",
        "            images, labels = images.to(device), labels.to(device)\n",
        "\n",
        "            outputs = model(images)\n",
        "            loss = criterion(outputs, labels)\n",
        "\n",
        "            # score the model\n",
        "            _, preds = torch.max(outputs, 1)\n",
        "            test_loss += loss.item() * images.size(0)\n",
        "            test_correct += torch.sum(preds == labels.data)\n",
        "\n",
        "    return test_loss / n_test, test_correct / n_test\n",
        "\n",
        "\n",
        "for epoch in range(num_epochs):\n",
        "    print(f\"Epoch {epoch+1}/{num_epochs}\")\n",
        "\n",
        "    train_loss = 0.0\n",
        "    train_correct = 0.0\n",
        "    model.train()\n",
        "    for images, labels in train_loader:\n",
        "        images, labels = images.to(device), labels.to(device)\n",
        "        # reset gradients\n",
        "        optimizer.zero_grad()\n",
        "        # calculate loss and backprop\n",
        "        outputs = model(images)\n",
        "        loss = criterion(outputs, labels)\n",
        "        loss.backward()\n",
        "\n",
        "        torch.nn.utils.clip_grad_norm_(model.parameters(), 20)\n",
        "\n",
        "        optimizer.step()\n",
        "\n",
        "        # score the model\n",
        "        _, preds = torch.max(outputs, 1)\n",
        "        train_loss += loss.item() * images.size(0)\n",
        "        train_correct += torch.sum(preds == labels)\n",
        "\n",
        "    # finished with this epoch\n",
        "    scheduler.step()\n",
        "\n",
        "    epoch_loss, epoch_acc = test()\n",
        "    print(f\"    train loss: {train_loss/n_train} acc: {train_correct/n_train}\")\n",
        "    print(f\"    test loss: {epoch_loss} acc: {epoch_acc}\")\n",
        "\n",
        "    # store if this is the best iteration\n",
        "    if epoch_acc > best_acc or not best_weights:\n",
        "        best_epoch = epoch\n",
        "        best_acc = epoch_acc\n",
        "        best_weights = model.state_dict()\n",
        "\n",
        "# force types\n",
        "assert best_weights is not None, \"no iterations were successful???\"\n",
        "save_model_state(best_weights)\n",
        "\n",
        "print(f\"Best iteration: {best_epoch + 1}, acc: {best_acc}\")\n",
        "print(f\"Saved model to {model_name}\")"
      ]
    },
    {
      "cell_type": "markdown",
      "metadata": {},
      "source": [
        "### Testing"
      ]
    },
    {
      "cell_type": "code",
      "execution_count": 4,
      "metadata": {},
      "outputs": [
        {
          "data": {
            "text/plain": [
              "<All keys matched successfully>"
            ]
          },
          "execution_count": 4,
          "metadata": {},
          "output_type": "execute_result"
        }
      ],
      "source": [
        "# load the best model\n",
        "if not model:\n",
        "    # create a blank model if one doesn't exist\n",
        "    model = make_model()\n",
        "\n",
        "model.load_state_dict(load_model_state())"
      ]
    },
    {
      "cell_type": "code",
      "execution_count": 5,
      "metadata": {
        "colab": {
          "base_uri": "https://localhost:8080/"
        },
        "id": "QnP6DlXcLUMd",
        "outputId": "12bc8255-b599-4e6f-b99e-9421c168ce9e"
      },
      "outputs": [
        {
          "name": "stdout",
          "output_type": "stream",
          "text": [
            "Test accuracy: 0.6506999731063843\n"
          ]
        }
      ],
      "source": [
        "# load the test set\n",
        "testset, test_loader = test_dataset()\n",
        "\n",
        "correct = 0\n",
        "model.eval()\n",
        "with torch.no_grad():\n",
        "    for images, labels in test_loader:\n",
        "        images, labels = images.to(device), labels.to(device)\n",
        "\n",
        "        outputs = model(images)\n",
        "\n",
        "        # score the model\n",
        "        _, preds = torch.max(outputs, 1)\n",
        "        correct += torch.sum(preds == labels.data)\n",
        "\n",
        "\n",
        "print(f\"Test accuracy: {correct / len(testset)}\")"
      ]
    },
    {
      "cell_type": "markdown",
      "metadata": {},
      "source": [
        "### Debugging"
      ]
    },
    {
      "cell_type": "code",
      "execution_count": 6,
      "metadata": {},
      "outputs": [
        {
          "name": "stdout",
          "output_type": "stream",
          "text": [
            "----------------------------------------------------------------\n",
            "        Layer (type)               Output Shape         Param #\n",
            "================================================================\n",
            "            Conv2d-1         [-1, 64, 224, 224]           1,792\n",
            "              ReLU-2         [-1, 64, 224, 224]               0\n",
            "            Conv2d-3         [-1, 64, 224, 224]          36,928\n",
            "              ReLU-4         [-1, 64, 224, 224]               0\n",
            "         MaxPool2d-5         [-1, 64, 112, 112]               0\n",
            "            Conv2d-6        [-1, 128, 112, 112]          73,856\n",
            "              ReLU-7        [-1, 128, 112, 112]               0\n",
            "            Conv2d-8        [-1, 128, 112, 112]         147,584\n",
            "              ReLU-9        [-1, 128, 112, 112]               0\n",
            "        MaxPool2d-10          [-1, 128, 56, 56]               0\n",
            "           Conv2d-11          [-1, 256, 56, 56]         295,168\n",
            "             ReLU-12          [-1, 256, 56, 56]               0\n",
            "           Conv2d-13          [-1, 256, 56, 56]         590,080\n",
            "             ReLU-14          [-1, 256, 56, 56]               0\n",
            "           Conv2d-15          [-1, 256, 56, 56]         590,080\n",
            "             ReLU-16          [-1, 256, 56, 56]               0\n",
            "        MaxPool2d-17          [-1, 256, 28, 28]               0\n",
            "           Conv2d-18          [-1, 512, 28, 28]       1,180,160\n",
            "             ReLU-19          [-1, 512, 28, 28]               0\n",
            "           Conv2d-20          [-1, 512, 28, 28]       2,359,808\n",
            "             ReLU-21          [-1, 512, 28, 28]               0\n",
            "           Conv2d-22          [-1, 512, 28, 28]       2,359,808\n",
            "             ReLU-23          [-1, 512, 28, 28]               0\n",
            "        MaxPool2d-24          [-1, 512, 14, 14]               0\n",
            "           Conv2d-25          [-1, 512, 14, 14]       2,359,808\n",
            "             ReLU-26          [-1, 512, 14, 14]               0\n",
            "           Conv2d-27          [-1, 512, 14, 14]       2,359,808\n",
            "             ReLU-28          [-1, 512, 14, 14]               0\n",
            "           Conv2d-29          [-1, 512, 14, 14]       2,359,808\n",
            "             ReLU-30          [-1, 512, 14, 14]               0\n",
            "        MaxPool2d-31            [-1, 512, 7, 7]               0\n",
            "AdaptiveAvgPool2d-32            [-1, 512, 7, 7]               0\n",
            "           Linear-33                 [-1, 4096]     102,764,544\n",
            "             ReLU-34                 [-1, 4096]               0\n",
            "          Dropout-35                 [-1, 4096]               0\n",
            "           Linear-36                 [-1, 4096]      16,781,312\n",
            "             ReLU-37                 [-1, 4096]               0\n",
            "          Dropout-38                 [-1, 4096]               0\n",
            "           Linear-39                  [-1, 100]         409,700\n",
            "================================================================\n",
            "Total params: 134,670,244\n",
            "Trainable params: 409,700\n",
            "Non-trainable params: 134,260,544\n",
            "----------------------------------------------------------------\n",
            "Input size (MB): 0.57\n",
            "Forward/backward pass size (MB): 218.77\n",
            "Params size (MB): 513.73\n",
            "Estimated Total Size (MB): 733.07\n",
            "----------------------------------------------------------------\n"
          ]
        }
      ],
      "source": [
        "from torchsummary import summary\n",
        "model = make_model()\n",
        "summary(model, (3, 224, 224))"
      ]
    }
  ],
  "metadata": {
    "accelerator": "GPU",
    "colab": {
      "gpuType": "T4",
      "provenance": []
    },
    "kernelspec": {
      "display_name": ".venv",
      "language": "python",
      "name": "python3"
    },
    "language_info": {
      "codemirror_mode": {
        "name": "ipython",
        "version": 3
      },
      "file_extension": ".py",
      "mimetype": "text/x-python",
      "name": "python",
      "nbconvert_exporter": "python",
      "pygments_lexer": "ipython3",
      "version": "3.12.3"
    }
  },
  "nbformat": 4,
  "nbformat_minor": 0
}
