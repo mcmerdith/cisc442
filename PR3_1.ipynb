{
  "cells": [
    {
      "cell_type": "code",
      "execution_count": 1,
      "metadata": {
        "id": "Vz5bRENqrfAE"
      },
      "outputs": [
        {
          "name": "stdout",
          "output_type": "stream",
          "text": [
            "GPU is available\n"
          ]
        }
      ],
      "source": [
        "import torch\n",
        "import torch.nn as nn\n",
        "import torch.optim as optim\n",
        "from torch.optim import lr_scheduler\n",
        "import numpy as np\n",
        "import torchvision\n",
        "from torchvision import datasets, models, transforms\n",
        "\n",
        "if torch.cuda.is_available():\n",
        "    device = torch.device(\"cuda\")\n",
        "    print(\"GPU is available\")\n",
        "else:\n",
        "    device = torch.device(\"cpu\")\n",
        "    print(\"GPU is not available\")\n",
        "dataset_root = \"sample_data\"\n",
        "model_path = \"part1-model.pth\"\n",
        "model = None"
      ]
    },
    {
      "cell_type": "markdown",
      "metadata": {
        "id": "zSsV5R9JsMNC"
      },
      "source": [
        "\n",
        "# Part 1 - Classification"
      ]
    },
    {
      "cell_type": "code",
      "execution_count": 2,
      "metadata": {
        "id": "TXqFN3iuPqDt"
      },
      "outputs": [],
      "source": [
        "def make_model(n_cls=100):\n",
        "    model = models.vgg16(weights=models.VGG16_Weights.DEFAULT)\n",
        "    num_in_ftrs = model.classifier[6].in_features\n",
        "    model.classifier[6] = nn.Linear(num_in_ftrs, n_cls)\n",
        "    model = model.to(device)\n",
        "\n",
        "    # freeze all the layers\n",
        "    for param in model.parameters():  \n",
        "        param.requires_grad = False\n",
        "    # unfreeze the last linear layer.\n",
        "    for param in model.classifier[6].parameters():\n",
        "        param.requires_grad = True\n",
        "\n",
        "    return model\n",
        "\n",
        "\n",
        "# setup transformers\n",
        "data_transforms = transforms.Compose([\n",
        "    transforms.Resize((224, 224)),\n",
        "    transforms.RandomHorizontalFlip(),\n",
        "    transforms.ToTensor(),\n",
        "    transforms.Normalize((0.485, 0.456, 0.406), (0.229, 0.224, 0.225))\n",
        "])"
      ]
    },
    {
      "cell_type": "code",
      "execution_count": null,
      "metadata": {
        "colab": {
          "base_uri": "https://localhost:8080/"
        },
        "id": "xMXfu0i3sLxP",
        "outputId": "60ec3cd1-3314-4b9d-c605-b39dee8ba81d"
      },
      "outputs": [
        {
          "name": "stdout",
          "output_type": "stream",
          "text": [
            "Epoch 1/10\n",
            "    train loss: 2.182555526885986 acc: 0.44132000000000005\n",
            "Epoch 2/10\n",
            "    train loss: 1.9365713777923583 acc: 0.50402\n",
            "Epoch 3/10\n",
            "    train loss: 1.895754975128174 acc: 0.5211600000000001\n",
            "Epoch 4/10\n",
            "    train loss: 1.859160849761963 acc: 0.53258\n",
            "Epoch 5/10\n",
            "    train loss: 1.8430161903381348 acc: 0.53642\n",
            "Epoch 6/10\n",
            "    train loss: 1.8173012637329102 acc: 0.54674\n",
            "Epoch 7/10\n",
            "    train loss: 1.8057684832000733 acc: 0.5520200000000001\n",
            "Epoch 8/10\n",
            "    train loss: 1.5332362850761414 acc: 0.5896600000000001\n",
            "Epoch 9/10\n",
            "    train loss: 1.45825863822937 acc: 0.6057600000000001\n",
            "Epoch 10/10\n",
            "    train loss: 1.4107701216506958 acc: 0.6107\n",
            "Best iteration: 10, acc: 0.6107\n",
            "Saved model to part1-model.pth\n"
          ]
        }
      ],
      "source": [
        "# load the training set\n",
        "batch_size = 64\n",
        "trainset = datasets.CIFAR100(dataset_root, train=True, transform = data_transforms, download=True)\n",
        "train_loader = torch.utils.data.DataLoader(trainset, batch_size=batch_size, shuffle=True,\n",
        "                                           num_workers=2, pin_memory=True, persistent_workers=True)\n",
        "\n",
        "# build the model\n",
        "model = make_model()\n",
        "\n",
        "# training time\n",
        "num_epochs = 10\n",
        "criterion = nn.CrossEntropyLoss()\n",
        "# higher learning rate to train in less epochs\n",
        "optimizer = optim.SGD(model.parameters(), lr=0.01, momentum=0.9)\n",
        "scheduler = lr_scheduler.StepLR(optimizer, step_size=7, gamma=0.1)\n",
        "\n",
        "# save the best model\n",
        "best_epoch = 0\n",
        "best_acc = 0.0\n",
        "best_weights = None\n",
        "\n",
        "for epoch in range(num_epochs):\n",
        "    print(f\"Epoch {epoch+1}/{num_epochs}\")\n",
        "    \n",
        "    curr_loss = 0.0\n",
        "    curr_correct = 0.0\n",
        "    for images, labels in train_loader:            \n",
        "        images, labels = images.to(device), labels.to(device)\n",
        "        # reset gradients\n",
        "        model.train()\n",
        "        optimizer.zero_grad()\n",
        "        # calculate loss and backprop\n",
        "        outputs = model(images)\n",
        "        loss = criterion(outputs, labels)\n",
        "        loss.backward()\n",
        "        \n",
        "        optimizer.step()\n",
        "\n",
        "        # score the model\n",
        "        _, preds = torch.max(outputs, 1)\n",
        "        curr_loss += loss.item() * images.size(0)\n",
        "        curr_correct += torch.sum(preds == labels)\n",
        "\n",
        "    # finished with this epoch\n",
        "    scheduler.step()\n",
        "    epoch_loss = curr_loss / len(trainset)\n",
        "    epoch_acc = curr_correct / len(trainset)\n",
        "    print(f\"    train loss: {epoch_loss} acc: {epoch_acc}\")\n",
        "\n",
        "    # store if this is the best iteration\n",
        "    if epoch_acc > best_acc or not best_weights:\n",
        "        best_epoch = epoch\n",
        "        best_acc = epoch_acc\n",
        "        best_weights = model.state_dict()\n",
        "\n",
        "# force types\n",
        "assert best_weights is not None, \"no iterations were successful???\"\n",
        "\n",
        "print(f\"Best iteration: {best_epoch + 1}, acc: {best_acc}\")\n",
        "\n",
        "# reset to the best iteration\n",
        "model.load_state_dict(best_weights)\n",
        "\n",
        "torch.save(best_weights, model_path)\n",
        "print(f\"Saved model to {model_path}\")"
      ]
    },
    {
      "cell_type": "code",
      "execution_count": 3,
      "metadata": {},
      "outputs": [
        {
          "data": {
            "text/plain": [
              "<All keys matched successfully>"
            ]
          },
          "execution_count": 3,
          "metadata": {},
          "output_type": "execute_result"
        }
      ],
      "source": [
        "# if the model wasn't just trained, create a new one\n",
        "if not model:\n",
        "    model = make_model()\n",
        "\n",
        "model.load_state_dict(torch.load(model_path))"
      ]
    },
    {
      "cell_type": "code",
      "execution_count": 4,
      "metadata": {
        "colab": {
          "base_uri": "https://localhost:8080/"
        },
        "id": "QnP6DlXcLUMd",
        "outputId": "12bc8255-b599-4e6f-b99e-9421c168ce9e"
      },
      "outputs": [
        {
          "name": "stdout",
          "output_type": "stream",
          "text": [
            "Test accuracy: 0.548799991607666\n"
          ]
        }
      ],
      "source": [
        "# load the test set\n",
        "batch_size = 100\n",
        "testset = datasets.CIFAR100(dataset_root, train=False, transform = data_transforms, download=True)\n",
        "test_loader = torch.utils.data.DataLoader(testset, batch_size=batch_size, shuffle=True)\n",
        "\n",
        "correct = 0\n",
        "with torch.no_grad():\n",
        "    for images, labels in test_loader:\n",
        "        images, labels = images.to(device), labels.to(device)\n",
        "\n",
        "        outputs = model(images)\n",
        "\n",
        "        # score the model\n",
        "        _, preds = torch.max(outputs, 1)\n",
        "        correct += torch.sum(preds == labels.data)\n",
        "\n",
        "\n",
        "\n",
        "print(f\"Test accuracy: {correct / len(testset)}\")"
      ]
    },
    {
      "cell_type": "code",
      "execution_count": 5,
      "metadata": {},
      "outputs": [
        {
          "name": "stdout",
          "output_type": "stream",
          "text": [
            "----------------------------------------------------------------\n",
            "        Layer (type)               Output Shape         Param #\n",
            "================================================================\n",
            "            Conv2d-1         [-1, 64, 224, 224]           1,792\n",
            "              ReLU-2         [-1, 64, 224, 224]               0\n",
            "            Conv2d-3         [-1, 64, 224, 224]          36,928\n",
            "              ReLU-4         [-1, 64, 224, 224]               0\n",
            "         MaxPool2d-5         [-1, 64, 112, 112]               0\n",
            "            Conv2d-6        [-1, 128, 112, 112]          73,856\n",
            "              ReLU-7        [-1, 128, 112, 112]               0\n",
            "            Conv2d-8        [-1, 128, 112, 112]         147,584\n",
            "              ReLU-9        [-1, 128, 112, 112]               0\n",
            "        MaxPool2d-10          [-1, 128, 56, 56]               0\n",
            "           Conv2d-11          [-1, 256, 56, 56]         295,168\n",
            "             ReLU-12          [-1, 256, 56, 56]               0\n",
            "           Conv2d-13          [-1, 256, 56, 56]         590,080\n",
            "             ReLU-14          [-1, 256, 56, 56]               0\n",
            "           Conv2d-15          [-1, 256, 56, 56]         590,080\n",
            "             ReLU-16          [-1, 256, 56, 56]               0\n",
            "        MaxPool2d-17          [-1, 256, 28, 28]               0\n",
            "           Conv2d-18          [-1, 512, 28, 28]       1,180,160\n",
            "             ReLU-19          [-1, 512, 28, 28]               0\n",
            "           Conv2d-20          [-1, 512, 28, 28]       2,359,808\n",
            "             ReLU-21          [-1, 512, 28, 28]               0\n",
            "           Conv2d-22          [-1, 512, 28, 28]       2,359,808\n",
            "             ReLU-23          [-1, 512, 28, 28]               0\n",
            "        MaxPool2d-24          [-1, 512, 14, 14]               0\n",
            "           Conv2d-25          [-1, 512, 14, 14]       2,359,808\n",
            "             ReLU-26          [-1, 512, 14, 14]               0\n",
            "           Conv2d-27          [-1, 512, 14, 14]       2,359,808\n",
            "             ReLU-28          [-1, 512, 14, 14]               0\n",
            "           Conv2d-29          [-1, 512, 14, 14]       2,359,808\n",
            "             ReLU-30          [-1, 512, 14, 14]               0\n",
            "        MaxPool2d-31            [-1, 512, 7, 7]               0\n",
            "AdaptiveAvgPool2d-32            [-1, 512, 7, 7]               0\n",
            "           Linear-33                 [-1, 4096]     102,764,544\n",
            "             ReLU-34                 [-1, 4096]               0\n",
            "          Dropout-35                 [-1, 4096]               0\n",
            "           Linear-36                 [-1, 4096]      16,781,312\n",
            "             ReLU-37                 [-1, 4096]               0\n",
            "          Dropout-38                 [-1, 4096]               0\n",
            "           Linear-39                  [-1, 100]         409,700\n",
            "================================================================\n",
            "Total params: 134,670,244\n",
            "Trainable params: 409,700\n",
            "Non-trainable params: 134,260,544\n",
            "----------------------------------------------------------------\n",
            "Input size (MB): 0.57\n",
            "Forward/backward pass size (MB): 218.77\n",
            "Params size (MB): 513.73\n",
            "Estimated Total Size (MB): 733.07\n",
            "----------------------------------------------------------------\n"
          ]
        }
      ],
      "source": [
        "from torchsummary import summary\n",
        "summary(model, (3, 224, 224))"
      ]
    }
  ],
  "metadata": {
    "accelerator": "GPU",
    "colab": {
      "gpuType": "T4",
      "provenance": []
    },
    "kernelspec": {
      "display_name": ".venv",
      "language": "python",
      "name": "python3"
    },
    "language_info": {
      "codemirror_mode": {
        "name": "ipython",
        "version": 3
      },
      "file_extension": ".py",
      "mimetype": "text/x-python",
      "name": "python",
      "nbconvert_exporter": "python",
      "pygments_lexer": "ipython3",
      "version": "3.12.9"
    }
  },
  "nbformat": 4,
  "nbformat_minor": 0
}
