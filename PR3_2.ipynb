{
  "cells": [
    {
      "cell_type": "markdown",
      "metadata": {},
      "source": [
        "# Part 2 - Custom Classification"
      ]
    },
    {
      "cell_type": "code",
      "execution_count": 5,
      "metadata": {
        "id": "Vz5bRENqrfAE"
      },
      "outputs": [
        {
          "name": "stdout",
          "output_type": "stream",
          "text": [
            "GPU is available\n"
          ]
        }
      ],
      "source": [
        "from os import makedirs, path\n",
        "\n",
        "import torch\n",
        "import torch.nn as nn\n",
        "import torch.optim as optim\n",
        "from torch.optim import lr_scheduler\n",
        "from torchvision import datasets, transforms\n",
        "\n",
        "if torch.cuda.is_available():\n",
        "    device = torch.device(\"cuda\")\n",
        "    print(\"GPU is available\")\n",
        "else:\n",
        "    device = torch.device(\"cpu\")\n",
        "    print(\"GPU is not available\")\n",
        "\n",
        "dataset_root = \"sample_data\"\n",
        "output_dir = path.join(\"output\", \"part-2\")\n",
        "makedirs(output_dir, exist_ok=True)\n",
        "\n",
        "model_name = \"model.pth\"\n",
        "model = None"
      ]
    },
    {
      "cell_type": "markdown",
      "metadata": {},
      "source": [
        "### Custom VGG16 model"
      ]
    },
    {
      "cell_type": "code",
      "execution_count": 6,
      "metadata": {},
      "outputs": [],
      "source": [
        "# Adapted from https://github.com/mcmerdith/cisc484/blob/hw4/HW%204_CNN-1.ipynb\n",
        "\n",
        "class ModifiedVGG16ConvUnit(nn.Module):\n",
        "    def __init__(self, input_channels, out_channels, rate=0.3, drop=True):\n",
        "        super().__init__()\n",
        "        # This line creates a 2D convolutional layer using PyTorch's nn.Conv2d module.\n",
        "        self.conv = nn.Conv2d(input_channels, out_channels, 3, 1, 1)\n",
        "        # self.bn = nn.BatchNorm2d(out_channels) # normalize the activations of the convolutional layer in the neural network.\n",
        "        # introduces non-linearity (-ve --> zeros)\n",
        "        self.relu = nn.ReLU(inplace=True)\n",
        "        self.dropout = nn.Dropout(rate)\n",
        "        self.drop = drop\n",
        "\n",
        "    # This method defines the forward pass of the convolutional block.\n",
        "    def forward(self, x):\n",
        "        # x = self.relu(self.bn(self.conv(x)))\n",
        "        x = self.relu(self.conv(x))\n",
        "        if self.drop:\n",
        "            x = self.dropout(x)\n",
        "        return x\n",
        "\n",
        "\n",
        "def vgg16_layer(input_channels, out_channels, num, dropout=0.3, pool=True):\n",
        "    layers = []\n",
        "    for _ in range(num):\n",
        "        layers.append(ModifiedVGG16ConvUnit(input_channels,\n",
        "                      out_channels, dropout, drop=False))\n",
        "        input_channels = out_channels\n",
        "    if pool:\n",
        "        layers.append(nn.MaxPool2d(kernel_size=2, stride=2))\n",
        "    return layers\n",
        "\n",
        "\n",
        "class ModifiedVGG16(nn.Module):\n",
        "    def __init__(self, n_classes: int):\n",
        "        super(ModifiedVGG16, self).__init__()\n",
        "        # Each layer should have 2-3 convolution blocks\n",
        "        # but a single block is used to reduce training time.\n",
        "        self.features = nn.Sequential(\n",
        "            *vgg16_layer(3, 64, 1),     # 224x224 -> 112x112\n",
        "            *vgg16_layer(64, 128, 1),   # 112x112 -> 56x56\n",
        "            *vgg16_layer(128, 256, 1),  # 56x56 -> 28x28\n",
        "            *vgg16_layer(256, 512, 1),  # 28x28 -> 14x14\n",
        "            *vgg16_layer(512, 512, 1),  # 14x14 -> 7x7\n",
        "        )\n",
        "        self.classifier = nn.Sequential(\n",
        "            nn.Flatten(),\n",
        "            nn.Linear(512*7*7, 4096),\n",
        "            nn.ReLU(inplace=True),\n",
        "            nn.Dropout(0.5),\n",
        "            nn.Linear(4096, n_classes),\n",
        "            nn.Flatten(),\n",
        "        )\n",
        "\n",
        "    # defines how data flows through the network during the forward pass.\n",
        "    def forward(self, x):\n",
        "        x = self.features(x)\n",
        "        x = self.classifier(x)\n",
        "        return x"
      ]
    },
    {
      "cell_type": "markdown",
      "metadata": {},
      "source": [
        "### Setup and shared functions"
      ]
    },
    {
      "cell_type": "code",
      "execution_count": 7,
      "metadata": {
        "id": "TXqFN3iuPqDt"
      },
      "outputs": [],
      "source": [
        "def save_model_state(model_state: dict):\n",
        "    torch.save(model_state, path.join(output_dir, model_name))\n",
        "\n",
        "\n",
        "def load_model_state():\n",
        "    return torch.load(path.join(output_dir, model_name))\n",
        "\n",
        "\n",
        "def make_model(n_classes=100):\n",
        "    return ModifiedVGG16(n_classes).to(device)\n",
        "\n",
        "\n",
        "# setup transformers\n",
        "data_transforms = transforms.Compose([\n",
        "    transforms.Resize((224, 224)),\n",
        "    transforms.RandomHorizontalFlip(),\n",
        "    transforms.ToTensor(),\n",
        "    transforms.Normalize((0.485, 0.456, 0.406), (0.229, 0.224, 0.225))\n",
        "])\n",
        "\n",
        "batch_size = 64\n",
        "\n",
        "\n",
        "def train_dataset():\n",
        "    trainset = datasets.CIFAR100(\n",
        "        dataset_root, train=True, transform=data_transforms, download=True)\n",
        "\n",
        "    train_loader = torch.utils.data.DataLoader(trainset, batch_size=batch_size, shuffle=True,\n",
        "                                               num_workers=2, pin_memory=True, persistent_workers=True)\n",
        "\n",
        "    return trainset, train_loader\n",
        "\n",
        "\n",
        "def test_dataset():\n",
        "    testset = datasets.CIFAR100(\n",
        "        dataset_root, train=False, transform=data_transforms, download=True)\n",
        "\n",
        "    test_loader = torch.utils.data.DataLoader(testset, batch_size=batch_size, shuffle=True,\n",
        "                                              num_workers=2, pin_memory=True, persistent_workers=True)\n",
        "\n",
        "    return testset, test_loader"
      ]
    },
    {
      "cell_type": "markdown",
      "metadata": {},
      "source": [
        "### Training"
      ]
    },
    {
      "cell_type": "code",
      "execution_count": 8,
      "metadata": {
        "colab": {
          "base_uri": "https://localhost:8080/",
          "height": 211
        },
        "id": "xMXfu0i3sLxP",
        "outputId": "89b76496-5db9-4d68-dc4f-0a671d73948b"
      },
      "outputs": [
        {
          "name": "stdout",
          "output_type": "stream",
          "text": [
            "Epoch 1/30\n",
            "    train loss: 4.05032236038208 acc: 0.08287999778985977\n",
            "    test loss: 3.4564245761871337 acc: 0.17350000143051147\n",
            "Epoch 2/30\n",
            "    train loss: 3.250999174499512 acc: 0.21261999011039734\n",
            "    test loss: 2.9466774810791017 acc: 0.2712000012397766\n",
            "Epoch 3/30\n",
            "    train loss: 2.722631212615967 acc: 0.3166999816894531\n",
            "    test loss: 2.484548329162598 acc: 0.36910000443458557\n",
            "Epoch 4/30\n",
            "    train loss: 2.3020351233673098 acc: 0.40699997544288635\n",
            "    test loss: 2.2352161472320558 acc: 0.42159998416900635\n",
            "Epoch 5/30\n",
            "    train loss: 1.943188407897949 acc: 0.4855799973011017\n",
            "    test loss: 2.080101790046692 acc: 0.45729997754096985\n",
            "Epoch 6/30\n",
            "    train loss: 1.614656820640564 acc: 0.5646600127220154\n",
            "    test loss: 1.9552152214050293 acc: 0.48749998211860657\n",
            "Epoch 7/30\n",
            "    train loss: 1.297410272693634 acc: 0.6413800120353699\n",
            "    test loss: 1.9874830585479737 acc: 0.4900999963283539\n",
            "Epoch 8/30\n",
            "    train loss: 0.6772241623878479 acc: 0.8105799555778503\n",
            "    test loss: 1.8810389024734497 acc: 0.5378000140190125\n",
            "Epoch 9/30\n",
            "    train loss: 0.5070042621612549 acc: 0.8599599599838257\n",
            "    test loss: 1.9415401931762695 acc: 0.5435999631881714\n",
            "Epoch 10/30\n",
            "    train loss: 0.4056714235305786 acc: 0.8845999836921692\n",
            "    test loss: 2.000489813232422 acc: 0.5436999797821045\n",
            "Epoch 11/30\n",
            "    train loss: 0.32620185754299164 acc: 0.9063400030136108\n",
            "    test loss: 2.0372924312591554 acc: 0.550000011920929\n",
            "Epoch 12/30\n",
            "    train loss: 0.2585858043050766 acc: 0.9254999756813049\n",
            "    test loss: 2.1188918212890626 acc: 0.5490999817848206\n",
            "Epoch 13/30\n",
            "    train loss: 0.2063566372871399 acc: 0.9391599893569946\n",
            "    test loss: 2.2078181144714355 acc: 0.5494999885559082\n",
            "Epoch 14/30\n",
            "    train loss: 0.16759978825092314 acc: 0.9502999782562256\n",
            "    test loss: 2.3415414558410643 acc: 0.5454999804496765\n",
            "Epoch 15/30\n",
            "    train loss: 0.126137978079319 acc: 0.9630199670791626\n",
            "    test loss: 2.350974832057953 acc: 0.5527999997138977\n",
            "Epoch 16/30\n",
            "    train loss: 0.12538754757761955 acc: 0.9622199535369873\n",
            "    test loss: 2.3782275451660158 acc: 0.551800012588501\n",
            "Epoch 17/30\n",
            "    train loss: 0.11147360272467137 acc: 0.9666399955749512\n",
            "    test loss: 2.3843493322372438 acc: 0.5530999898910522\n",
            "Epoch 18/30\n",
            "    train loss: 0.10788436038076878 acc: 0.9682999849319458\n",
            "    test loss: 2.4055506690979005 acc: 0.5547999739646912\n",
            "Epoch 19/30\n",
            "    train loss: 0.10331249513149261 acc: 0.9696599841117859\n",
            "    test loss: 2.4320544029235838 acc: 0.5539000034332275\n",
            "Epoch 20/30\n",
            "    train loss: 0.09819071812272072 acc: 0.9699399471282959\n",
            "    test loss: 2.4525892669677734 acc: 0.5533999800682068\n",
            "Epoch 21/30\n",
            "    train loss: 0.0949348050057888 acc: 0.9714599847793579\n",
            "    test loss: 2.4442375564575194 acc: 0.5562999844551086\n",
            "Epoch 22/30\n",
            "    train loss: 0.09293797680139541 acc: 0.9723999500274658\n",
            "    test loss: 2.4607795726776125 acc: 0.5521000027656555\n",
            "Epoch 23/30\n",
            "    train loss: 0.0913220850110054 acc: 0.972819983959198\n",
            "    test loss: 2.4637770992279053 acc: 0.5525000095367432\n",
            "Epoch 24/30\n",
            "    train loss: 0.09104223313093185 acc: 0.9727399945259094\n",
            "    test loss: 2.456127754974365 acc: 0.5537999868392944\n",
            "Epoch 25/30\n",
            "    train loss: 0.08815237063109875 acc: 0.9734599590301514\n",
            "    test loss: 2.4595360591888427 acc: 0.5577999949455261\n",
            "Epoch 26/30\n",
            "    train loss: 0.0874855814063549 acc: 0.9738799929618835\n",
            "    test loss: 2.458705620574951 acc: 0.5534999966621399\n",
            "Epoch 27/30\n",
            "    train loss: 0.08743652742475272 acc: 0.9735599756240845\n",
            "    test loss: 2.4632500244140627 acc: 0.5536999702453613\n",
            "Epoch 28/30\n",
            "    train loss: 0.08877847350016237 acc: 0.9739999771118164\n",
            "    test loss: 2.465146153640747 acc: 0.5555999875068665\n",
            "Epoch 29/30\n",
            "    train loss: 0.09062377956628799 acc: 0.972599983215332\n",
            "    test loss: 2.4642937255859376 acc: 0.5527999997138977\n",
            "Epoch 30/30\n",
            "    train loss: 0.08897345468997955 acc: 0.973360002040863\n",
            "    test loss: 2.446683920478821 acc: 0.5557999610900879\n",
            "Best iteration: 25, acc: 0.5577999949455261\n",
            "Saved model to model.pth\n"
          ]
        }
      ],
      "source": [
        "trainset, train_loader = train_dataset()\n",
        "testset, test_loader = test_dataset()\n",
        "n_train, n_test = len(trainset), len(testset)\n",
        "\n",
        "# build the model\n",
        "model = make_model()\n",
        "\n",
        "# training time\n",
        "num_epochs = 30\n",
        "criterion = nn.CrossEntropyLoss()\n",
        "# higher learning rate to train in less epochs\n",
        "optimizer = optim.SGD(model.parameters(), lr=0.01, momentum=0.9)\n",
        "scheduler = lr_scheduler.StepLR(optimizer, step_size=7, gamma=0.1)\n",
        "\n",
        "# save the best model\n",
        "best_epoch = 0\n",
        "best_acc = 0.0\n",
        "best_weights = None\n",
        "\n",
        "\n",
        "def test():\n",
        "    test_loss = 0.0\n",
        "    test_correct = 0.0\n",
        "    model.eval()\n",
        "    with torch.no_grad():\n",
        "        for images, labels in test_loader:\n",
        "            images, labels = images.to(device), labels.to(device)\n",
        "\n",
        "            outputs = model(images)\n",
        "            loss = criterion(outputs, labels)\n",
        "\n",
        "            # score the model\n",
        "            _, preds = torch.max(outputs, 1)\n",
        "            test_loss += loss.item() * images.size(0)\n",
        "            test_correct += torch.sum(preds == labels.data)\n",
        "\n",
        "    return test_loss / n_test, test_correct / n_test\n",
        "\n",
        "\n",
        "for epoch in range(num_epochs):\n",
        "    print(f\"Epoch {epoch+1}/{num_epochs}\")\n",
        "\n",
        "    train_loss = 0.0\n",
        "    train_correct = 0.0\n",
        "    model.train()\n",
        "    for images, labels in train_loader:\n",
        "        images, labels = images.to(device), labels.to(device)\n",
        "        # reset gradients\n",
        "        optimizer.zero_grad()\n",
        "        # calculate loss and backprop\n",
        "        outputs = model(images)\n",
        "        loss = criterion(outputs, labels)\n",
        "        loss.backward()\n",
        "\n",
        "        torch.nn.utils.clip_grad_norm_(model.parameters(), 20)\n",
        "\n",
        "        optimizer.step()\n",
        "\n",
        "        # score the model\n",
        "        _, preds = torch.max(outputs, 1)\n",
        "        train_loss += loss.item() * images.size(0)\n",
        "        train_correct += torch.sum(preds == labels)\n",
        "\n",
        "    # finished with this epoch\n",
        "    scheduler.step()\n",
        "\n",
        "    epoch_loss, epoch_acc = test()\n",
        "    print(f\"    train loss: {train_loss/n_train} acc: {train_correct/n_train}\")\n",
        "    print(f\"    test loss: {epoch_loss} acc: {epoch_acc}\")\n",
        "\n",
        "    # store if this is the best iteration\n",
        "    if epoch_acc > best_acc or not best_weights:\n",
        "        best_epoch = epoch\n",
        "        best_acc = epoch_acc\n",
        "        best_weights = model.state_dict()\n",
        "\n",
        "# force types\n",
        "assert best_weights is not None, \"no iterations were successful???\"\n",
        "save_model_state(best_weights)\n",
        "\n",
        "print(f\"Best iteration: {best_epoch + 1}, acc: {best_acc}\")\n",
        "print(f\"Saved model to {model_name}\")"
      ]
    },
    {
      "cell_type": "markdown",
      "metadata": {},
      "source": [
        "### Testing"
      ]
    },
    {
      "cell_type": "code",
      "execution_count": 9,
      "metadata": {},
      "outputs": [
        {
          "data": {
            "text/plain": [
              "<All keys matched successfully>"
            ]
          },
          "execution_count": 9,
          "metadata": {},
          "output_type": "execute_result"
        }
      ],
      "source": [
        "# load the best model\n",
        "if not model:\n",
        "    # create a blank model if one doesn't exist\n",
        "    model = make_model()\n",
        "\n",
        "model.load_state_dict(load_model_state())"
      ]
    },
    {
      "cell_type": "code",
      "execution_count": 10,
      "metadata": {
        "colab": {
          "base_uri": "https://localhost:8080/"
        },
        "id": "QnP6DlXcLUMd",
        "outputId": "12bc8255-b599-4e6f-b99e-9421c168ce9e"
      },
      "outputs": [
        {
          "name": "stdout",
          "output_type": "stream",
          "text": [
            "Test accuracy: 0.5519999861717224\n"
          ]
        }
      ],
      "source": [
        "# load the test set\n",
        "testset, test_loader = test_dataset()\n",
        "\n",
        "correct = 0\n",
        "model.eval()\n",
        "with torch.no_grad():\n",
        "    for images, labels in test_loader:\n",
        "        images, labels = images.to(device), labels.to(device)\n",
        "\n",
        "        outputs = model(images)\n",
        "\n",
        "        # score the model\n",
        "        _, preds = torch.max(outputs, 1)\n",
        "        correct += torch.sum(preds == labels.data)\n",
        "\n",
        "\n",
        "print(f\"Test accuracy: {correct / len(testset)}\")"
      ]
    },
    {
      "cell_type": "markdown",
      "metadata": {},
      "source": [
        "### Debugging"
      ]
    },
    {
      "cell_type": "code",
      "execution_count": 11,
      "metadata": {},
      "outputs": [
        {
          "name": "stdout",
          "output_type": "stream",
          "text": [
            "----------------------------------------------------------------\n",
            "        Layer (type)               Output Shape         Param #\n",
            "================================================================\n",
            "            Conv2d-1         [-1, 64, 224, 224]           1,792\n",
            "              ReLU-2         [-1, 64, 224, 224]               0\n",
            "ModifiedVGG16ConvUnit-3         [-1, 64, 224, 224]               0\n",
            "         MaxPool2d-4         [-1, 64, 112, 112]               0\n",
            "            Conv2d-5        [-1, 128, 112, 112]          73,856\n",
            "              ReLU-6        [-1, 128, 112, 112]               0\n",
            "ModifiedVGG16ConvUnit-7        [-1, 128, 112, 112]               0\n",
            "         MaxPool2d-8          [-1, 128, 56, 56]               0\n",
            "            Conv2d-9          [-1, 256, 56, 56]         295,168\n",
            "             ReLU-10          [-1, 256, 56, 56]               0\n",
            "ModifiedVGG16ConvUnit-11          [-1, 256, 56, 56]               0\n",
            "        MaxPool2d-12          [-1, 256, 28, 28]               0\n",
            "           Conv2d-13          [-1, 512, 28, 28]       1,180,160\n",
            "             ReLU-14          [-1, 512, 28, 28]               0\n",
            "ModifiedVGG16ConvUnit-15          [-1, 512, 28, 28]               0\n",
            "        MaxPool2d-16          [-1, 512, 14, 14]               0\n",
            "           Conv2d-17          [-1, 512, 14, 14]       2,359,808\n",
            "             ReLU-18          [-1, 512, 14, 14]               0\n",
            "ModifiedVGG16ConvUnit-19          [-1, 512, 14, 14]               0\n",
            "        MaxPool2d-20            [-1, 512, 7, 7]               0\n",
            "          Flatten-21                [-1, 25088]               0\n",
            "           Linear-22                 [-1, 4096]     102,764,544\n",
            "             ReLU-23                 [-1, 4096]               0\n",
            "          Dropout-24                 [-1, 4096]               0\n",
            "           Linear-25                  [-1, 100]         409,700\n",
            "          Flatten-26                  [-1, 100]               0\n",
            "================================================================\n",
            "Total params: 107,085,028\n",
            "Trainable params: 107,085,028\n",
            "Non-trainable params: 0\n",
            "----------------------------------------------------------------\n",
            "Input size (MB): 0.57\n",
            "Forward/backward pass size (MB): 152.07\n",
            "Params size (MB): 408.50\n",
            "Estimated Total Size (MB): 561.14\n",
            "----------------------------------------------------------------\n"
          ]
        }
      ],
      "source": [
        "from torchsummary import summary\n",
        "model = make_model()\n",
        "summary(model, (3, 224, 224))"
      ]
    }
  ],
  "metadata": {
    "accelerator": "GPU",
    "colab": {
      "gpuType": "T4",
      "provenance": []
    },
    "kernelspec": {
      "display_name": ".venv",
      "language": "python",
      "name": "python3"
    },
    "language_info": {
      "codemirror_mode": {
        "name": "ipython",
        "version": 3
      },
      "file_extension": ".py",
      "mimetype": "text/x-python",
      "name": "python",
      "nbconvert_exporter": "python",
      "pygments_lexer": "ipython3",
      "version": "3.12.3"
    }
  },
  "nbformat": 4,
  "nbformat_minor": 0
}
