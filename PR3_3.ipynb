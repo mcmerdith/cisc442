{
  "cells": [
    {
      "cell_type": "code",
      "execution_count": null,
      "metadata": {
        "id": "Vz5bRENqrfAE"
      },
      "outputs": [
        {
          "name": "stdout",
          "output_type": "stream",
          "text": [
            "GPU is available\n"
          ]
        }
      ],
      "source": [
        "import torch\n",
        "import torch.nn as nn\n",
        "import torch.optim as optim\n",
        "from torch.optim import lr_scheduler\n",
        "import numpy as np\n",
        "import torchvision\n",
        "from torchvision import datasets, models, transforms\n",
        "\n",
        "if torch.cuda.is_available():\n",
        "    device = torch.device(\"cuda\")\n",
        "    print(\"GPU is available\")\n",
        "else:\n",
        "    device = torch.device(\"cpu\")\n",
        "    print(\"GPU is not available\")\n",
        "dataset_root = \"input_images\"\n",
        "model_path = \"part3-model.pth\"\n",
        "model = None"
      ]
    },
    {
      "cell_type": "markdown",
      "metadata": {
        "id": "zSsV5R9JsMNC"
      },
      "source": [
        "# Part 3 - Segmentation"
      ]
    },
    {
      "cell_type": "code",
      "execution_count": 49,
      "metadata": {
        "id": "TXqFN3iuPqDt"
      },
      "outputs": [],
      "source": [
        "# Adapted from https://github.com/mcmerdith/cisc484/blob/hw4/HW%204_CNN-1.ipynb\n",
        "\n",
        "class VGG16_Block(nn.Module):\n",
        "    def __init__(self, input_channels, out_channels, rate=0.3, drop=True):\n",
        "        super().__init__()\n",
        "        self.conv = nn.Conv2d(input_channels, out_channels, 3, 1, 1)  #This line creates a 2D convolutional layer using PyTorch's nn.Conv2d module.\n",
        "        # self.bn = nn.BatchNorm2d(out_channels) # normalize the activations of the convolutional layer in the neural network.\n",
        "        self.relu = nn.ReLU(inplace=True) #introduces non-linearity (-ve --> zeros)\n",
        "        self.dropout = nn.Dropout(rate)\n",
        "        self.drop = drop\n",
        "\n",
        "    def forward(self, x):  #This method defines the forward pass of the convolutional block.\n",
        "        # x = self.relu(self.bn(self.conv(x)))\n",
        "        x = self.relu(self.conv(x))\n",
        "        if self.drop:\n",
        "            x = self.dropout(x)\n",
        "        return x\n",
        "    \n",
        "def vgg16_layer(input_channels, out_channels, num, dropout=0.3, pool=True):\n",
        "    layers = []\n",
        "    for i in range(num):\n",
        "        layers.append(VGG16_Block(input_channels, out_channels, dropout, drop=False))\n",
        "        input_channels = out_channels\n",
        "    if pool:\n",
        "        layers.append(nn.MaxPool2d(kernel_size=2, stride=2))\n",
        "    return nn.Sequential(*layers)\n",
        "\n",
        "class ModifiedVGG16(nn.Module):\n",
        "    def __init__(self, n_classes: int):\n",
        "        super(ModifiedVGG16, self).__init__()\n",
        "        self.features = nn.Sequential(\n",
        "            vgg16_layer(3, 64, 1), # 224x224 -> 112x112\n",
        "            vgg16_layer(64, 128, 1), #112x112 -> 56x56\n",
        "            vgg16_layer(128, 256, 1), # 56x56 -> 28x28\n",
        "            vgg16_layer(256, 256, 1), # 28x28 -> 14x14\n",
        "            vgg16_layer(256, 256, 1), # 14x14 -> 7x7\n",
        "        )\n",
        "        self.classifier = nn.Sequential(\n",
        "            nn.Flatten(),\n",
        "            nn.Linear(256*7*7, 4096),\n",
        "            nn.ReLU(inplace=True),\n",
        "            nn.Dropout(0.5),\n",
        "            nn.Linear(4096, n_classes),\n",
        "            nn.Flatten(),\n",
        "        )\n",
        "\n",
        "    # defines how data flows through the network during the forward pass.\n",
        "    def forward(self, x):\n",
        "        x = self.features(x)\n",
        "        x = self.classifier(x)\n",
        "        return x\n",
        "    \n",
        "def make_model(n_classes=100):\n",
        "    return ModifiedVGG16(n_classes).to(device)\n",
        "\n",
        "# setup transformers\n",
        "data_transforms = transforms.Compose([\n",
        "    transforms.Resize((224,224)),\n",
        "    # transforms.Resize((112,112)),\n",
        "    transforms.RandomHorizontalFlip(),\n",
        "    transforms.ToTensor(),\n",
        "    transforms.Normalize((0.485, 0.456, 0.406), (0.229, 0.224, 0.225))\n",
        "])"
      ]
    },
    {
      "cell_type": "markdown",
      "metadata": {},
      "source": [
        "# Training"
      ]
    },
    {
      "cell_type": "code",
      "execution_count": null,
      "metadata": {
        "colab": {
          "base_uri": "https://localhost:8080/",
          "height": 211
        },
        "id": "xMXfu0i3sLxP",
        "outputId": "89b76496-5db9-4d68-dc4f-0a671d73948b"
      },
      "outputs": [
        {
          "name": "stdout",
          "output_type": "stream",
          "text": [
            "Epoch 1/30\n",
            "    train loss: 4.09470086769104 acc: 0.07750000059604645\n",
            "Epoch 2/30\n",
            "    train loss: 3.2656227058410643 acc: 0.2116599977016449\n",
            "Epoch 3/30\n",
            "    train loss: 2.7441490550994874 acc: 0.3153799772262573\n",
            "Epoch 4/30\n",
            "    train loss: 2.3542969204711914 acc: 0.39607998728752136\n",
            "Epoch 5/30\n",
            "    train loss: 2.0182782722473145 acc: 0.46908000111579895\n",
            "Epoch 6/30\n",
            "    train loss: 1.730703472518921 acc: 0.5362200140953064\n",
            "Epoch 7/30\n"
          ]
        }
      ],
      "source": [
        "# load the training set\n",
        "batch_size = 64\n",
        "trainset = datasets.CIFAR100(dataset_root, train=True, transform = data_transforms, download=True)\n",
        "train_loader = torch.utils.data.DataLoader(trainset, batch_size=batch_size, shuffle=True,\n",
        "                                           num_workers=2, pin_memory=True, persistent_workers=True)\n",
        "testset = datasets.CIFAR100(dataset_root, train=False, transform = data_transforms, download=True)\n",
        "test_loader = torch.utils.data.DataLoader(trainset, batch_size=batch_size, shuffle=True,\n",
        "                                           num_workers=2, pin_memory=True, persistent_workers=True)\n",
        "\n",
        "# build the model\n",
        "model = make_model()\n",
        "\n",
        "# training time\n",
        "num_epochs = 30\n",
        "criterion = nn.CrossEntropyLoss()\n",
        "# higher learning rate to train in less epochs\n",
        "optimizer = optim.SGD(model.parameters(), lr=0.01, momentum=0.9)\n",
        "scheduler = lr_scheduler.StepLR(optimizer, step_size=7, gamma=0.1)\n",
        "\n",
        "# save the best model\n",
        "best_epoch = 0\n",
        "best_acc = 0.0\n",
        "best_weights = None\n",
        "\n",
        "def test(model, loader):\n",
        "    loss = 0.0\n",
        "    correct = 0.0\n",
        "    with torch.no_grad():\n",
        "        for images, labels in loader:\n",
        "            images, labels = images.to(device), labels.to(device)\n",
        "\n",
        "            outputs = model(images)\n",
        "            loss = criterion(outputs, labels)\n",
        "\n",
        "            # score the model\n",
        "            _, preds = torch.max(outputs, 1)\n",
        "            correct += torch.sum(preds == labels.data)\n",
        "        \n",
        "\n",
        "for epoch in range(num_epochs):\n",
        "    print(f\"Epoch {epoch+1}/{num_epochs}\")\n",
        "    \n",
        "    curr_loss = 0.0\n",
        "    curr_correct = 0.0\n",
        "    for images, labels in train_loader:            \n",
        "        images, labels = images.to(device), labels.to(device)\n",
        "        # reset gradients\n",
        "        model.train()\n",
        "        optimizer.zero_grad()\n",
        "        # calculate loss and backprop\n",
        "        outputs = model(images)\n",
        "        loss = criterion(outputs, labels)\n",
        "        loss.backward()\n",
        "        \n",
        "        optimizer.step()\n",
        "\n",
        "        # score the model\n",
        "        _, preds = torch.max(outputs, 1)\n",
        "        curr_loss += loss.item() * images.size(0)\n",
        "        curr_correct += torch.sum(preds == labels)\n",
        "\n",
        "    # finished with this epoch\n",
        "    scheduler.step()\n",
        "    epoch_loss = curr_loss / len(trainset)\n",
        "    epoch_acc = curr_correct / len(trainset)\n",
        "    print(f\"    train loss: {epoch_loss} acc: {epoch_acc}\")\n",
        "\n",
        "    # store if this is the best iteration\n",
        "    if epoch_acc > best_acc or not best_weights:\n",
        "        best_epoch = epoch\n",
        "        best_acc = epoch_acc\n",
        "        best_weights = model.state_dict()\n",
        "\n",
        "# force types\n",
        "assert best_weights is not None, \"no iterations were successful???\"\n",
        "\n",
        "print(f\"Best iteration: {best_epoch + 1}, acc: {best_acc}\")\n",
        "\n",
        "# reset to the best iteration\n",
        "model.load_state_dict(best_weights)\n",
        "\n",
        "torch.save(best_weights, model_path)\n",
        "print(f\"Saved model to {model_path}\")"
      ]
    },
    {
      "cell_type": "markdown",
      "metadata": {},
      "source": [
        "# Testing"
      ]
    },
    {
      "cell_type": "code",
      "execution_count": 5,
      "metadata": {},
      "outputs": [
        {
          "data": {
            "text/plain": [
              "<All keys matched successfully>"
            ]
          },
          "execution_count": 5,
          "metadata": {},
          "output_type": "execute_result"
        }
      ],
      "source": [
        "# if the model wasn't just trained, create a new one\n",
        "if not model:\n",
        "    model = make_model()\n",
        "\n",
        "model.load_state_dict(torch.load(model_path))"
      ]
    },
    {
      "cell_type": "code",
      "execution_count": null,
      "metadata": {
        "colab": {
          "base_uri": "https://localhost:8080/"
        },
        "id": "QnP6DlXcLUMd",
        "outputId": "12bc8255-b599-4e6f-b99e-9421c168ce9e"
      },
      "outputs": [
        {
          "name": "stdout",
          "output_type": "stream",
          "text": [
            "Test accuracy: 0.5536999702453613\n"
          ]
        }
      ],
      "source": [
        "# load the test set\n",
        "batch_size = 64\n",
        "testset = datasets.CIFAR100(dataset_root, train=False, transform = data_transforms, download=True)\n",
        "test_loader = torch.utils.data.DataLoader(testset, batch_size=batch_size, shuffle=True)\n",
        "\n",
        "\n",
        "\n",
        "print(f\"Test accuracy: {correct / len(testset)}\")"
      ]
    },
    {
      "cell_type": "markdown",
      "metadata": {},
      "source": [
        "# Debugging"
      ]
    },
    {
      "cell_type": "code",
      "execution_count": 50,
      "metadata": {},
      "outputs": [
        {
          "name": "stdout",
          "output_type": "stream",
          "text": [
            "----------------------------------------------------------------\n",
            "        Layer (type)               Output Shape         Param #\n",
            "================================================================\n",
            "            Conv2d-1         [-1, 64, 224, 224]           1,792\n",
            "              ReLU-2         [-1, 64, 224, 224]               0\n",
            "       VGG16_Block-3         [-1, 64, 224, 224]               0\n",
            "         MaxPool2d-4         [-1, 64, 112, 112]               0\n",
            "            Conv2d-5        [-1, 128, 112, 112]          73,856\n",
            "              ReLU-6        [-1, 128, 112, 112]               0\n",
            "       VGG16_Block-7        [-1, 128, 112, 112]               0\n",
            "         MaxPool2d-8          [-1, 128, 56, 56]               0\n",
            "            Conv2d-9          [-1, 256, 56, 56]         295,168\n",
            "             ReLU-10          [-1, 256, 56, 56]               0\n",
            "      VGG16_Block-11          [-1, 256, 56, 56]               0\n",
            "        MaxPool2d-12          [-1, 256, 28, 28]               0\n",
            "           Conv2d-13          [-1, 256, 28, 28]         590,080\n",
            "             ReLU-14          [-1, 256, 28, 28]               0\n",
            "      VGG16_Block-15          [-1, 256, 28, 28]               0\n",
            "        MaxPool2d-16          [-1, 256, 14, 14]               0\n",
            "           Conv2d-17          [-1, 256, 14, 14]         590,080\n",
            "             ReLU-18          [-1, 256, 14, 14]               0\n",
            "      VGG16_Block-19          [-1, 256, 14, 14]               0\n",
            "        MaxPool2d-20            [-1, 256, 7, 7]               0\n",
            "          Flatten-21                [-1, 12544]               0\n",
            "           Linear-22                 [-1, 4096]      51,384,320\n",
            "             ReLU-23                 [-1, 4096]               0\n",
            "          Dropout-24                 [-1, 4096]               0\n",
            "           Linear-25                  [-1, 100]         409,700\n",
            "          Flatten-26                  [-1, 100]               0\n",
            "================================================================\n",
            "Total params: 53,344,996\n",
            "Trainable params: 53,344,996\n",
            "Non-trainable params: 0\n",
            "----------------------------------------------------------------\n",
            "Input size (MB): 0.57\n",
            "Forward/backward pass size (MB): 145.76\n",
            "Params size (MB): 203.50\n",
            "Estimated Total Size (MB): 349.82\n",
            "----------------------------------------------------------------\n"
          ]
        }
      ],
      "source": [
        "from torchsummary import summary\n",
        "model = make_model()\n",
        "summary(model, (3, 224, 224))"
      ]
    }
  ],
  "metadata": {
    "accelerator": "GPU",
    "colab": {
      "gpuType": "T4",
      "provenance": []
    },
    "kernelspec": {
      "display_name": ".venv",
      "language": "python",
      "name": "python3"
    },
    "language_info": {
      "codemirror_mode": {
        "name": "ipython",
        "version": 3
      },
      "file_extension": ".py",
      "mimetype": "text/x-python",
      "name": "python",
      "nbconvert_exporter": "python",
      "pygments_lexer": "ipython3",
      "version": "3.12.9"
    }
  },
  "nbformat": 4,
  "nbformat_minor": 0
}
